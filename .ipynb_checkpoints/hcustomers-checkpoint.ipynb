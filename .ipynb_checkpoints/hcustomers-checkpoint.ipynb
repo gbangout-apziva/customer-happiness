{
 "cells": [
  {
   "cell_type": "markdown",
   "id": "fbc45fa4",
   "metadata": {},
   "source": [
    "# Happy Costumers\n",
    "@author: Talardia Gbangou, August 2022\n",
    "\n",
    "We want to predict (accuracy score >=73%) if a customer is happy or not based on the answers they give to questions asked. This is a classification problem."
   ]
  },
  {
   "cell_type": "markdown",
   "id": "1398dc2e",
   "metadata": {},
   "source": [
    "# Importing modules"
   ]
  },
  {
   "cell_type": "code",
   "execution_count": 252,
   "id": "620afa69",
   "metadata": {},
   "outputs": [],
   "source": [
    "import pandas as pd\n",
    "import numpy as np\n",
    "import seaborn as sns\n",
    "import matplotlib.pyplot as plt\n",
    "%matplotlib inline"
   ]
  },
  {
   "cell_type": "markdown",
   "id": "67c48fe1",
   "metadata": {},
   "source": [
    "# Load data"
   ]
  },
  {
   "cell_type": "code",
   "execution_count": 253,
   "id": "7c91825d",
   "metadata": {},
   "outputs": [],
   "source": [
    "df_train = pd.read_csv(\"ACME-HappinessSurvey2020.csv\")"
   ]
  },
  {
   "cell_type": "code",
   "execution_count": 254,
   "id": "8f365d3e",
   "metadata": {},
   "outputs": [
    {
     "data": {
      "text/html": [
       "<div>\n",
       "<style scoped>\n",
       "    .dataframe tbody tr th:only-of-type {\n",
       "        vertical-align: middle;\n",
       "    }\n",
       "\n",
       "    .dataframe tbody tr th {\n",
       "        vertical-align: top;\n",
       "    }\n",
       "\n",
       "    .dataframe thead th {\n",
       "        text-align: right;\n",
       "    }\n",
       "</style>\n",
       "<table border=\"1\" class=\"dataframe\">\n",
       "  <thead>\n",
       "    <tr style=\"text-align: right;\">\n",
       "      <th></th>\n",
       "      <th>Y</th>\n",
       "      <th>X1</th>\n",
       "      <th>X2</th>\n",
       "      <th>X3</th>\n",
       "      <th>X4</th>\n",
       "      <th>X5</th>\n",
       "      <th>X6</th>\n",
       "    </tr>\n",
       "  </thead>\n",
       "  <tbody>\n",
       "    <tr>\n",
       "      <th>0</th>\n",
       "      <td>0</td>\n",
       "      <td>3</td>\n",
       "      <td>3</td>\n",
       "      <td>3</td>\n",
       "      <td>4</td>\n",
       "      <td>2</td>\n",
       "      <td>4</td>\n",
       "    </tr>\n",
       "    <tr>\n",
       "      <th>1</th>\n",
       "      <td>0</td>\n",
       "      <td>3</td>\n",
       "      <td>2</td>\n",
       "      <td>3</td>\n",
       "      <td>5</td>\n",
       "      <td>4</td>\n",
       "      <td>3</td>\n",
       "    </tr>\n",
       "    <tr>\n",
       "      <th>2</th>\n",
       "      <td>1</td>\n",
       "      <td>5</td>\n",
       "      <td>3</td>\n",
       "      <td>3</td>\n",
       "      <td>3</td>\n",
       "      <td>3</td>\n",
       "      <td>5</td>\n",
       "    </tr>\n",
       "    <tr>\n",
       "      <th>3</th>\n",
       "      <td>0</td>\n",
       "      <td>5</td>\n",
       "      <td>4</td>\n",
       "      <td>3</td>\n",
       "      <td>3</td>\n",
       "      <td>3</td>\n",
       "      <td>5</td>\n",
       "    </tr>\n",
       "    <tr>\n",
       "      <th>4</th>\n",
       "      <td>0</td>\n",
       "      <td>5</td>\n",
       "      <td>4</td>\n",
       "      <td>3</td>\n",
       "      <td>3</td>\n",
       "      <td>3</td>\n",
       "      <td>5</td>\n",
       "    </tr>\n",
       "  </tbody>\n",
       "</table>\n",
       "</div>"
      ],
      "text/plain": [
       "   Y  X1  X2  X3  X4  X5  X6\n",
       "0  0   3   3   3   4   2   4\n",
       "1  0   3   2   3   5   4   3\n",
       "2  1   5   3   3   3   3   5\n",
       "3  0   5   4   3   3   3   5\n",
       "4  0   5   4   3   3   3   5"
      ]
     },
     "execution_count": 254,
     "metadata": {},
     "output_type": "execute_result"
    }
   ],
   "source": [
    "df_train.head()"
   ]
  },
  {
   "cell_type": "markdown",
   "id": "36572b1d",
   "metadata": {},
   "source": [
    "Dara description:\n",
    "\n",
    "Y = target attribute (Y) with values indicating 0 (unhappy) and 1 (happy) customers\n",
    "\n",
    "X1 = my order was delivered on time\n",
    "\n",
    "X2 = contents of my order was as I expected\n",
    "\n",
    "X3 = I ordered everything I wanted to order\n",
    "\n",
    "X4 = I paid a good price for my order\n",
    "\n",
    "X5 = I am satisfied with my courier\n",
    "\n",
    "X6 = the app makes ordering easy for me"
   ]
  },
  {
   "cell_type": "markdown",
   "id": "f58bdc85",
   "metadata": {},
   "source": [
    "# Exploratory Data Analysis"
   ]
  },
  {
   "cell_type": "code",
   "execution_count": 255,
   "id": "6325b7b2",
   "metadata": {},
   "outputs": [
    {
     "name": "stdout",
     "output_type": "stream",
     "text": [
      "<class 'pandas.core.frame.DataFrame'>\n",
      "RangeIndex: 126 entries, 0 to 125\n",
      "Data columns (total 7 columns):\n",
      " #   Column  Non-Null Count  Dtype\n",
      "---  ------  --------------  -----\n",
      " 0   Y       126 non-null    int64\n",
      " 1   X1      126 non-null    int64\n",
      " 2   X2      126 non-null    int64\n",
      " 3   X3      126 non-null    int64\n",
      " 4   X4      126 non-null    int64\n",
      " 5   X5      126 non-null    int64\n",
      " 6   X6      126 non-null    int64\n",
      "dtypes: int64(7)\n",
      "memory usage: 7.0 KB\n"
     ]
    }
   ],
   "source": [
    "df_train.info()"
   ]
  },
  {
   "cell_type": "markdown",
   "id": "82b76523",
   "metadata": {},
   "source": [
    "we have only numerical features"
   ]
  },
  {
   "cell_type": "markdown",
   "id": "755205f3",
   "metadata": {},
   "source": [
    "## Missing data\n",
    "Let's check if there is are missing data"
   ]
  },
  {
   "cell_type": "code",
   "execution_count": 256,
   "id": "ab846237",
   "metadata": {},
   "outputs": [
    {
     "data": {
      "text/plain": [
       "Y     0\n",
       "X1    0\n",
       "X2    0\n",
       "X3    0\n",
       "X4    0\n",
       "X5    0\n",
       "X6    0\n",
       "dtype: int64"
      ]
     },
     "execution_count": 256,
     "metadata": {},
     "output_type": "execute_result"
    }
   ],
   "source": [
    "df_train.isnull().sum()"
   ]
  },
  {
   "cell_type": "markdown",
   "id": "e37179e2",
   "metadata": {},
   "source": [
    "Result show that there are no missing data."
   ]
  },
  {
   "cell_type": "markdown",
   "id": "6b45f272",
   "metadata": {},
   "source": [
    "Looking at data description, we have only numerical features in the data."
   ]
  },
  {
   "cell_type": "code",
   "execution_count": 257,
   "id": "b8822747",
   "metadata": {},
   "outputs": [
    {
     "data": {
      "text/plain": [
       "<AxesSubplot:xlabel='Y', ylabel='count'>"
      ]
     },
     "execution_count": 257,
     "metadata": {},
     "output_type": "execute_result"
    },
    {
     "data": {
      "image/png": "[encoded data removed]",
      "text/plain": [
       "<Figure size 432x288 with 1 Axes>"
      ]
     },
     "metadata": {
      "needs_background": "light"
     },
     "output_type": "display_data"
    }
   ],
   "source": [
    "sns.countplot(x='Y',data=df_train)"
   ]
  },
  {
   "cell_type": "code",
   "execution_count": 258,
   "id": "83fcefa8",
   "metadata": {},
   "outputs": [],
   "source": [
    "df_percentage = pd.DataFrame(df_train.Y.value_counts())"
   ]
  },
  {
   "cell_type": "code",
   "execution_count": 259,
   "id": "c387a967",
   "metadata": {},
   "outputs": [],
   "source": [
    "df_percentage['Percentage (%)'] = (df_percentage['Y']/df_percentage['Y'].sum())*100"
   ]
  },
  {
   "cell_type": "code",
   "execution_count": 260,
   "id": "d400e149",
   "metadata": {},
   "outputs": [
    {
     "data": {
      "text/html": [
       "<div>\n",
       "<style scoped>\n",
       "    .dataframe tbody tr th:only-of-type {\n",
       "        vertical-align: middle;\n",
       "    }\n",
       "\n",
       "    .dataframe tbody tr th {\n",
       "        vertical-align: top;\n",
       "    }\n",
       "\n",
       "    .dataframe thead th {\n",
       "        text-align: right;\n",
       "    }\n",
       "</style>\n",
       "<table border=\"1\" class=\"dataframe\">\n",
       "  <thead>\n",
       "    <tr style=\"text-align: right;\">\n",
       "      <th></th>\n",
       "      <th>Y</th>\n",
       "      <th>Percentage (%)</th>\n",
       "    </tr>\n",
       "  </thead>\n",
       "  <tbody>\n",
       "    <tr>\n",
       "      <th>1</th>\n",
       "      <td>69</td>\n",
       "      <td>54.761905</td>\n",
       "    </tr>\n",
       "    <tr>\n",
       "      <th>0</th>\n",
       "      <td>57</td>\n",
       "      <td>45.238095</td>\n",
       "    </tr>\n",
       "  </tbody>\n",
       "</table>\n",
       "</div>"
      ],
      "text/plain": [
       "    Y  Percentage (%)\n",
       "1  69       54.761905\n",
       "0  57       45.238095"
      ]
     },
     "execution_count": 260,
     "metadata": {},
     "output_type": "execute_result"
    }
   ],
   "source": [
    "df_percentage"
   ]
  },
  {
   "cell_type": "markdown",
   "id": "567e0753",
   "metadata": {},
   "source": [
    "This visualization and percentage statistic show that we have globally more happy customers(1) than unhappy ones(0). We also have balanced data because the difference in count is not much."
   ]
  },
  {
   "cell_type": "markdown",
   "id": "0ff0be55",
   "metadata": {},
   "source": [
    "# Building and choice of classification models"
   ]
  },
  {
   "cell_type": "markdown",
   "id": "dca9a48f",
   "metadata": {},
   "source": [
    "importing modules"
   ]
  },
  {
   "cell_type": "code",
   "execution_count": 261,
   "id": "b5ccdbd5",
   "metadata": {},
   "outputs": [],
   "source": [
    "#conda install lightgbm\n",
    "#conda install xgboost"
   ]
  },
  {
   "cell_type": "code",
   "execution_count": 262,
   "id": "2a5258d5",
   "metadata": {},
   "outputs": [],
   "source": [
    "from sklearn.model_selection import train_test_split\n",
    "from sklearn.model_selection import GridSearchCV\n",
    "\n",
    "from sklearn.linear_model import LogisticRegression\n",
    "from sklearn.ensemble import RandomForestClassifier\n",
    "from sklearn.tree import DecisionTreeClassifier\n",
    "from sklearn import svm\n",
    "from sklearn.ensemble import AdaBoostClassifier\n",
    "from sklearn.ensemble import GradientBoostingClassifier\n",
    "from lightgbm import LGBMClassifier\n",
    "from xgboost import XGBClassifier\n",
    "\n",
    "from sklearn.metrics import accuracy_score"
   ]
  },
  {
   "cell_type": "markdown",
   "id": "f4729796",
   "metadata": {},
   "source": [
    "## Overview of several classification models"
   ]
  },
  {
   "cell_type": "markdown",
   "id": "49dcfe9d",
   "metadata": {},
   "source": [
    "Training data"
   ]
  },
  {
   "cell_type": "code",
   "execution_count": 263,
   "id": "b388be3b",
   "metadata": {},
   "outputs": [],
   "source": [
    "X=df_train.drop(\"Y\",axis=1) #features or independent variable\n",
    "y=df_train[\"Y\"] #target or dependent variable"
   ]
  },
  {
   "cell_type": "markdown",
   "id": "4861516f",
   "metadata": {},
   "source": [
    "Train test split of train data"
   ]
  },
  {
   "cell_type": "code",
   "execution_count": 264,
   "id": "7e7f15ef",
   "metadata": {},
   "outputs": [],
   "source": [
    "X_train, X_val, y_train, y_val = train_test_split(X, y, test_size=0.2, random_state=20)"
   ]
  },
  {
   "cell_type": "markdown",
   "id": "50dfb6c2",
   "metadata": {},
   "source": [
    "Defining and testing four classification models"
   ]
  },
  {
   "cell_type": "code",
   "execution_count": 265,
   "id": "21258f0e",
   "metadata": {},
   "outputs": [
    {
     "name": "stdout",
     "output_type": "stream",
     "text": [
      "Logistic Regression Model:\n",
      "The accuracy of the model is:  61.53846153846154 %\n",
      "Random Forest Model:\n",
      "The accuracy of the model is:  76.92307692307693 %\n",
      "Support Vector Machine (SVM) Model :\n",
      "The accuracy of the model is:  61.53846153846154 %\n",
      "Decision tree model :\n",
      "The accuracy of the model is:  61.53846153846154 %\n",
      "Gradientboost model :\n",
      "The accuracy of the model is:  69.23076923076923 %\n",
      "Xgboost model:\n",
      "The accuracy of the model is:  73.07692307692307 %\n",
      "LGBM model:\n",
      "The accuracy of the model is:  73.07692307692307 %\n"
     ]
    }
   ],
   "source": [
    "print(\"Logistic Regression Model:\")\n",
    "logmodel = LogisticRegression()\n",
    "logmodel.fit(X_train,y_train)\n",
    "predictions_logistic = logmodel.predict(X_val)\n",
    "accuracy = accuracy_score(predictions_logistic, y_val)\n",
    "print(\"The accuracy of the model is: \", accuracy*100, \"%\")\n",
    "\n",
    "print(\"Random Forest Model:\")\n",
    "rforestmodel =  RandomForestClassifier()\n",
    "rforestmodel.fit(X_train,y_train)\n",
    "predictions_rforest = rforestmodel.predict(X_val)\n",
    "accuracy = accuracy_score(predictions_rforest, y_val)\n",
    "print(\"The accuracy of the model is: \", accuracy*100, \"%\")\n",
    "\n",
    "print(\"Support Vector Machine (SVM) Model :\")\n",
    "svmmodel = svm.SVC()\n",
    "svmmodel.fit(X_train,y_train)\n",
    "predictions_svm = svmmodel.predict(X_val)\n",
    "accuracy = accuracy_score(predictions_svm, y_val)\n",
    "print(\"The accuracy of the model is: \", accuracy*100, \"%\")\n",
    "\n",
    "print(\"Decision tree model :\")\n",
    "dtreemodel = DecisionTreeClassifier()\n",
    "dtreemodel.fit(X_train,y_train)\n",
    "predictions_dtree = dtreemodel.predict(X_val)\n",
    "accuracy = accuracy_score(predictions_dtree, y_val)\n",
    "print(\"The accuracy of the model is: \", accuracy*100, \"%\")\n",
    "\n",
    "print(\"Gradientboost model :\")\n",
    "gboostmodel = GradientBoostingClassifier()\n",
    "gboostmodel.fit(X_train,y_train)\n",
    "predictions_gboost = gboostmodel.predict(X_val)\n",
    "accuracy = accuracy_score(predictions_gboost, y_val)\n",
    "print(\"The accuracy of the model is: \", accuracy*100, \"%\")\n",
    "\n",
    "print(\"Xgboost model:\")\n",
    "xgbmodel = XGBClassifier(eval_metric='mlogloss',use_label_encoder=False)\n",
    "xgbmodel.fit(X_train,y_train)\n",
    "predictions_xgb = xgbmodel.predict(X_val)\n",
    "accuracy = accuracy_score(predictions_xgb, y_val)\n",
    "print(\"The accuracy of the model is: \", accuracy*100, \"%\")\n",
    "\n",
    "print(\"LGBM model:\")\n",
    "lgbmmodel = LGBMClassifier()\n",
    "lgbmmodel.fit(X_train,y_train)\n",
    "predictions_lgbm = lgbmmodel.predict(X_val)\n",
    "accuracy = accuracy_score(predictions_lgbm, y_val)\n",
    "print(\"The accuracy of the model is: \", accuracy*100, \"%\")"
   ]
  },
  {
   "cell_type": "markdown",
   "id": "5194ac9a",
   "metadata": {},
   "source": [
    "Evaluation of different models with the  train_test_split spliting show that Random Forest,Xgboost model, and LGBM model have the best scores(73.07%). This score is for a random_state of 20. The scores can vary with the random state. Therefore, let's apply some parameters tuning with grid search and use cross-validation to ensure stable results on these tree models."
   ]
  },
  {
   "cell_type": "markdown",
   "id": "a6409a68",
   "metadata": {},
   "source": [
    "## Tunning selected models parameters"
   ]
  },
  {
   "cell_type": "markdown",
   "id": "ad008009",
   "metadata": {},
   "source": [
    "Set up a hyper parameter grid for a random forest classifier"
   ]
  },
  {
   "cell_type": "code",
   "execution_count": 266,
   "id": "e8d7d94a",
   "metadata": {},
   "outputs": [],
   "source": [
    "params_grid_rf={\n",
    "    'n_estimators': [50, 100, 150],\n",
    "    'max_features': ['auto', 'sqrt','log2'],\n",
    "    'max_depth': [2, 5, 10],\n",
    "    'criterion': ['gini','entropy']\n",
    "}"
   ]
  },
  {
   "cell_type": "markdown",
   "id": "67f4c0bc",
   "metadata": {},
   "source": [
    "Create the grid search object for random forest and fit it "
   ]
  },
  {
   "cell_type": "code",
   "execution_count": 267,
   "id": "7de9dd83",
   "metadata": {},
   "outputs": [
    {
     "name": "stdout",
     "output_type": "stream",
     "text": [
      "Fitting 5 folds for each of 54 candidates, totalling 270 fits\n"
     ]
    },
    {
     "data": {
      "text/plain": [
       "GridSearchCV(cv=5, estimator=RandomForestClassifier(),\n",
       "             param_grid={'criterion': ['gini', 'entropy'],\n",
       "                         'max_depth': [2, 5, 10],\n",
       "                         'max_features': ['auto', 'sqrt', 'log2'],\n",
       "                         'n_estimators': [50, 100, 150]},\n",
       "             scoring='accuracy', verbose=1)"
      ]
     },
     "execution_count": 267,
     "metadata": {},
     "output_type": "execute_result"
    }
   ],
   "source": [
    "\n",
    "rf_grid=GridSearchCV(RandomForestClassifier(),params_grid_rf,scoring=\"accuracy\",cv=5,verbose=1)\n",
    "rf_grid.fit(X,y)"
   ]
  },
  {
   "cell_type": "markdown",
   "id": "b3b2d7ca",
   "metadata": {},
   "source": [
    "Evaluation of the random forest model"
   ]
  },
  {
   "cell_type": "code",
   "execution_count": 268,
   "id": "a823ad99",
   "metadata": {},
   "outputs": [
    {
     "name": "stdout",
     "output_type": "stream",
     "text": [
      "The accuracy of the random forest model is:  63.49206349206349 %\n"
     ]
    }
   ],
   "source": [
    "y_pred_rf=rf_grid.predict(X) \n",
    "print(\"The accuracy of the random forest model is: \", accuracy_score(y,y_pred_rf)*100, \"%\")"
   ]
  },
  {
   "cell_type": "markdown",
   "id": "818cda6a",
   "metadata": {},
   "source": [
    "Get the best parameters for random forest model"
   ]
  },
  {
   "cell_type": "code",
   "execution_count": 269,
   "id": "0a998b0c",
   "metadata": {},
   "outputs": [
    {
     "data": {
      "text/plain": [
       "{'criterion': 'gini',\n",
       " 'max_depth': 2,\n",
       " 'max_features': 'sqrt',\n",
       " 'n_estimators': 50}"
      ]
     },
     "execution_count": 269,
     "metadata": {},
     "output_type": "execute_result"
    }
   ],
   "source": [
    "rf_grid.best_params_"
   ]
  },
  {
   "cell_type": "markdown",
   "id": "2c961598",
   "metadata": {},
   "source": [
    "Set up a hyper parameter grid for xgboost classifier"
   ]
  },
  {
   "cell_type": "code",
   "execution_count": 270,
   "id": "10524ed9",
   "metadata": {},
   "outputs": [],
   "source": [
    "params_grid_xgb = {\n",
    "    'n_estimators': [50, 100, 150],\n",
    "    'colsample_bytree': [0.7, 0.8],\n",
    "    'max_depth': [15,20,25],\n",
    "    'reg_alpha': [1.1, 1.2, 1.3],\n",
    "    'reg_lambda': [1.1, 1.2, 1.3],\n",
    "    'subsample': [0.7, 0.8, 0.9]\n",
    "}\n"
   ]
  },
  {
   "cell_type": "markdown",
   "id": "74d1fa7d",
   "metadata": {},
   "source": [
    "Create the grid search object for xgboost and fit it "
   ]
  },
  {
   "cell_type": "code",
   "execution_count": 271,
   "id": "d7de4909",
   "metadata": {},
   "outputs": [
    {
     "name": "stdout",
     "output_type": "stream",
     "text": [
      "Fitting 5 folds for each of 486 candidates, totalling 2430 fits\n"
     ]
    },
    {
     "data": {
      "text/plain": [
       "GridSearchCV(cv=5,\n",
       "             estimator=XGBClassifier(base_score=None, booster=None,\n",
       "                                     colsample_bylevel=None,\n",
       "                                     colsample_bynode=None,\n",
       "                                     colsample_bytree=None,\n",
       "                                     enable_categorical=False,\n",
       "                                     eval_metric='mlogloss', gamma=None,\n",
       "                                     gpu_id=None, importance_type=None,\n",
       "                                     interaction_constraints=None,\n",
       "                                     learning_rate=None, max_delta_step=None,\n",
       "                                     max_depth=None, min_child_weight=None,\n",
       "                                     missing=nan, mon...\n",
       "                                     random_state=None, reg_alpha=None,\n",
       "                                     reg_lambda=None, scale_pos_weight=None,\n",
       "                                     subsample=None, tree_method=None,\n",
       "                                     use_label_encoder=False,\n",
       "                                     validate_parameters=None, verbosity=None),\n",
       "             param_grid={'colsample_bytree': [0.7, 0.8],\n",
       "                         'max_depth': [15, 20, 25],\n",
       "                         'n_estimators': [50, 100, 150],\n",
       "                         'reg_alpha': [1.1, 1.2, 1.3],\n",
       "                         'reg_lambda': [1.1, 1.2, 1.3],\n",
       "                         'subsample': [0.7, 0.8, 0.9]},\n",
       "             scoring='accuracy', verbose=1)"
      ]
     },
     "execution_count": 271,
     "metadata": {},
     "output_type": "execute_result"
    }
   ],
   "source": [
    "xgb_grid=GridSearchCV(XGBClassifier(eval_metric='mlogloss',use_label_encoder=False),params_xgb,scoring=\"accuracy\",cv=5,verbose=1)\n",
    "xgb_grid.fit(X,y)"
   ]
  },
  {
   "cell_type": "markdown",
   "id": "b97b9cd2",
   "metadata": {},
   "source": [
    "Evaluation of the xgboost model"
   ]
  },
  {
   "cell_type": "code",
   "execution_count": 272,
   "id": "8c7f4478",
   "metadata": {},
   "outputs": [
    {
     "name": "stdout",
     "output_type": "stream",
     "text": [
      "The accuracy of the Xgboost model is:  84.92063492063492 %\n"
     ]
    }
   ],
   "source": [
    "y_pred_xgb=xgb_grid.predict(X)\n",
    "print(\"The accuracy of the Xgboost model is: \", accuracy_score(y,y_pred_xgb)*100, \"%\")"
   ]
  },
  {
   "cell_type": "markdown",
   "id": "4e27c809",
   "metadata": {},
   "source": [
    "Get the best parameters for xgboost model"
   ]
  },
  {
   "cell_type": "code",
   "execution_count": 273,
   "id": "c3c4a3b7",
   "metadata": {},
   "outputs": [
    {
     "data": {
      "text/plain": [
       "{'colsample_bytree': 0.7,\n",
       " 'max_depth': 15,\n",
       " 'n_estimators': 100,\n",
       " 'reg_alpha': 1.3,\n",
       " 'reg_lambda': 1.1,\n",
       " 'subsample': 0.8}"
      ]
     },
     "execution_count": 273,
     "metadata": {},
     "output_type": "execute_result"
    }
   ],
   "source": [
    "xgb_grid.best_params_"
   ]
  },
  {
   "cell_type": "markdown",
   "id": "0a202d4a",
   "metadata": {},
   "source": [
    "Set up a hyper parameter grid for a lgbm classifier"
   ]
  },
  {
   "cell_type": "code",
   "execution_count": 274,
   "id": "f75b9ee6",
   "metadata": {},
   "outputs": [],
   "source": [
    "param_grid_lgbm = {\n",
    "    'n_estimators': [50,100,150],\n",
    "    'colsample_bytree': [0.7, 0.8],\n",
    "    'max_depth': [15,20,25],\n",
    "    'num_leaves': [10,20,30],\n",
    "    'reg_alpha': [1.1, 1.2, 1.3],\n",
    "    'reg_lambda': [1.1, 1.2, 1.3],\n",
    "    'min_split_gain': [0.3, 0.4],\n",
    "    'subsample': [0.7, 0.8, 0.9],\n",
    "    'subsample_freq': [20]\n",
    "}"
   ]
  },
  {
   "cell_type": "markdown",
   "id": "ed79eb15",
   "metadata": {},
   "source": [
    "Create the grid search object for lgbm model and fit it "
   ]
  },
  {
   "cell_type": "code",
   "execution_count": null,
   "id": "c4c87324",
   "metadata": {},
   "outputs": [
    {
     "name": "stdout",
     "output_type": "stream",
     "text": [
      "Fitting 5 folds for each of 2916 candidates, totalling 14580 fits\n"
     ]
    }
   ],
   "source": [
    "lgbm_grid=GridSearchCV(LGBMClassifier(),param_grid_lgbm,scoring=\"accuracy\",cv=5,verbose=1)\n",
    "lgbm_grid.fit(X,y)"
   ]
  },
  {
   "cell_type": "markdown",
   "id": "9bc428a8",
   "metadata": {},
   "source": [
    "Evaluation of the xgboost model"
   ]
  },
  {
   "cell_type": "code",
   "execution_count": null,
   "id": "87c07e2f",
   "metadata": {},
   "outputs": [],
   "source": [
    "y_pred_lgbm=lgbm_grid.predict(X) \n",
    "print(\"The accuracy of the lgbm model is: \", accuracy_score(y,y_pred_lgbm)*100, \"%\")"
   ]
  },
  {
   "cell_type": "markdown",
   "id": "9b60e688",
   "metadata": {},
   "source": [
    "Get the best parameters for lgbm model"
   ]
  },
  {
   "cell_type": "code",
   "execution_count": null,
   "id": "9c1a2e23",
   "metadata": {},
   "outputs": [],
   "source": [
    "lgbm_grid.best_params_"
   ]
  },
  {
   "cell_type": "markdown",
   "id": "157dfeb6",
   "metadata": {},
   "source": [
    "## Plot graph of feature importances"
   ]
  },
  {
   "cell_type": "code",
   "execution_count": null,
   "id": "7ce160da",
   "metadata": {},
   "outputs": [],
   "source": [
    "rforestmodel =  RandomForestClassifier()\n",
    "rforestmodel.fit(X,y)\n",
    "#rforestmodel =  RandomForestClassifier(criterion= 'gini', max_depth = 5, max_features = 'auto', n_estimators= 150)\n",
    "#rforestmodel.fit(X,y)"
   ]
  },
  {
   "cell_type": "code",
   "execution_count": null,
   "id": "5bfe1c06",
   "metadata": {},
   "outputs": [],
   "source": [
    "print(rforestmodel.feature_importances_)"
   ]
  },
  {
   "cell_type": "code",
   "execution_count": null,
   "id": "5940f2ef",
   "metadata": {},
   "outputs": [],
   "source": [
    "feat_importances = pd.Series(rforestmodel.feature_importances_, index=X.columns)\n",
    "feat_importances.nlargest(10).plot(kind='barh')\n",
    "plt.show()"
   ]
  },
  {
   "cell_type": "markdown",
   "id": "e2321ebf",
   "metadata": {},
   "source": [
    "THe barplot show the order of features importance in the data."
   ]
  },
  {
   "cell_type": "markdown",
   "id": "f8f017e5",
   "metadata": {},
   "source": [
    "Conclusion: We can predict with an accuracy of 84.9% if a customer is happy or not using either the random forest model or the Xgboost model (with the best parameters specified above)."
   ]
  }
 ],
 "metadata": {
  "kernelspec": {
   "display_name": "Python 3 (ipykernel)",
   "language": "python",
   "name": "python3"
  },
  "language_info": {
   "codemirror_mode": {
    "name": "ipython",
    "version": 3
   },
   "file_extension": ".py",
   "mimetype": "text/x-python",
   "name": "python",
   "nbconvert_exporter": "python",
   "pygments_lexer": "ipython3",
   "version": "3.9.7"
  }
 },
 "nbformat": 4,
 "nbformat_minor": 5
}
